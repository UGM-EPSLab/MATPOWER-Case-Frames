{
 "cells": [
  {
   "cell_type": "code",
   "execution_count": 1,
   "metadata": {},
   "outputs": [],
   "source": [
    "import pandas as pd\n",
    "from matpower import start_instance\n",
    "\n",
    "from matpowercaseframes import CaseFrames\n",
    "\n",
    "m = start_instance()\n",
    "\n",
    "CASE_NAME = \"case9\"\n",
    "\n",
    "mpc = m.loadcase(CASE_NAME, verbose=False)\n",
    "cf_mpc = CaseFrames(mpc)  # _read_oct2py_struct\n",
    "cf_parse = CaseFrames(CASE_NAME)  # _read_matpower"
   ]
  },
  {
   "cell_type": "code",
   "execution_count": 15,
   "metadata": {},
   "outputs": [
    {
     "name": "stdout",
     "output_type": "stream",
     "text": [
      "version: True\n",
      "baseMVA: True\n",
      "True\n",
      "bus: False\n",
      "True\n",
      "gen: False\n",
      "True\n",
      "branch: False\n",
      "True\n",
      "gencost: False\n"
     ]
    }
   ],
   "source": [
    "for attribute in cf_mpc.attributes:\n",
    "    df_mpc = getattr(cf_mpc, attribute)\n",
    "    df_parse = getattr(cf_parse, attribute)\n",
    "\n",
    "    if isinstance(df_mpc, pd.DataFrame):\n",
    "        print(df_mpc.columns.equals(df_parse.columns))\n",
    "        print(f\"{attribute}: {df_mpc.equals(df_parse)}\")\n",
    "    else:\n",
    "        print(f\"{attribute}: {df_mpc == df_parse}\")"
   ]
  },
  {
   "cell_type": "code",
   "execution_count": 6,
   "metadata": {},
   "outputs": [
    {
     "data": {
      "text/plain": [
       "True"
      ]
     },
     "execution_count": 6,
     "metadata": {},
     "output_type": "execute_result"
    }
   ],
   "source": []
  }
 ],
 "metadata": {
  "kernelspec": {
   "display_name": "env",
   "language": "python",
   "name": "python3"
  },
  "language_info": {
   "codemirror_mode": {
    "name": "ipython",
    "version": 3
   },
   "file_extension": ".py",
   "mimetype": "text/x-python",
   "name": "python",
   "nbconvert_exporter": "python",
   "pygments_lexer": "ipython3",
   "version": "3.12.4"
  }
 },
 "nbformat": 4,
 "nbformat_minor": 2
}
