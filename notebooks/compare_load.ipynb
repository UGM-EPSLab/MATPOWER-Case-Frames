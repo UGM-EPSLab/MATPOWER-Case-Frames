{
 "cells": [
  {
   "cell_type": "code",
   "execution_count": 1,
   "metadata": {},
   "outputs": [],
   "source": [
    "%load_ext autoreload\n",
    "%autoreload 2"
   ]
  },
  {
   "cell_type": "code",
   "execution_count": 2,
   "metadata": {},
   "outputs": [],
   "source": [
    "import pandas as pd\n",
    "from matpower import start_instance\n",
    "\n",
    "from matpowercaseframes import CaseFrames\n",
    "\n",
    "m = start_instance()"
   ]
  },
  {
   "cell_type": "code",
   "execution_count": 3,
   "metadata": {},
   "outputs": [],
   "source": [
    "CASE_NAME = \"case9\"\n",
    "\n",
    "mpc = m.loadcase(CASE_NAME, verbose=False)\n",
    "cf_mpc = CaseFrames(mpc)  # _read_oct2py_struct\n",
    "cf_parse = CaseFrames(CASE_NAME)  # _read_matpower"
   ]
  },
  {
   "cell_type": "code",
   "execution_count": 4,
   "metadata": {},
   "outputs": [
    {
     "name": "stdout",
     "output_type": "stream",
     "text": [
      "version: True\n",
      "baseMVA: True\n",
      "True\n",
      "bus: False\n",
      "True\n",
      "gen: False\n",
      "True\n",
      "branch: False\n",
      "True\n",
      "gencost: False\n"
     ]
    }
   ],
   "source": [
    "for attribute in cf_mpc.attributes:\n",
    "    df_mpc = getattr(cf_mpc, attribute)\n",
    "    df_parse = getattr(cf_parse, attribute)\n",
    "\n",
    "    if isinstance(df_mpc, pd.DataFrame):\n",
    "        print(df_mpc.columns.equals(df_parse.columns))\n",
    "        print(f\"{attribute}: {df_mpc.equals(df_parse)}\")\n",
    "    else:\n",
    "        print(f\"{attribute}: {df_mpc == df_parse}\")"
   ]
  },
  {
   "cell_type": "code",
   "execution_count": 5,
   "metadata": {},
   "outputs": [
    {
     "data": {
      "text/html": [
       "<div>\n",
       "<style scoped>\n",
       "    .dataframe tbody tr th:only-of-type {\n",
       "        vertical-align: middle;\n",
       "    }\n",
       "\n",
       "    .dataframe tbody tr th {\n",
       "        vertical-align: top;\n",
       "    }\n",
       "\n",
       "    .dataframe thead th {\n",
       "        text-align: right;\n",
       "    }\n",
       "</style>\n",
       "<table border=\"1\" class=\"dataframe\">\n",
       "  <thead>\n",
       "    <tr style=\"text-align: right;\">\n",
       "      <th></th>\n",
       "      <th>GEN_BUS</th>\n",
       "      <th>PG</th>\n",
       "      <th>QG</th>\n",
       "      <th>QMAX</th>\n",
       "      <th>QMIN</th>\n",
       "      <th>VG</th>\n",
       "      <th>MBASE</th>\n",
       "      <th>GEN_STATUS</th>\n",
       "      <th>PMAX</th>\n",
       "      <th>PMIN</th>\n",
       "      <th>...</th>\n",
       "      <th>PC2</th>\n",
       "      <th>QC1MIN</th>\n",
       "      <th>QC1MAX</th>\n",
       "      <th>QC2MIN</th>\n",
       "      <th>QC2MAX</th>\n",
       "      <th>RAMP_AGC</th>\n",
       "      <th>RAMP_10</th>\n",
       "      <th>RAMP_30</th>\n",
       "      <th>RAMP_Q</th>\n",
       "      <th>APF</th>\n",
       "    </tr>\n",
       "  </thead>\n",
       "  <tbody>\n",
       "    <tr>\n",
       "      <th>1</th>\n",
       "      <td>1</td>\n",
       "      <td>72.3</td>\n",
       "      <td>27.03</td>\n",
       "      <td>300</td>\n",
       "      <td>-300</td>\n",
       "      <td>1.040</td>\n",
       "      <td>100</td>\n",
       "      <td>1</td>\n",
       "      <td>250</td>\n",
       "      <td>10</td>\n",
       "      <td>...</td>\n",
       "      <td>0</td>\n",
       "      <td>0</td>\n",
       "      <td>0</td>\n",
       "      <td>0</td>\n",
       "      <td>0</td>\n",
       "      <td>0</td>\n",
       "      <td>0</td>\n",
       "      <td>0</td>\n",
       "      <td>0</td>\n",
       "      <td>0</td>\n",
       "    </tr>\n",
       "    <tr>\n",
       "      <th>2</th>\n",
       "      <td>2</td>\n",
       "      <td>163.0</td>\n",
       "      <td>6.54</td>\n",
       "      <td>300</td>\n",
       "      <td>-300</td>\n",
       "      <td>1.025</td>\n",
       "      <td>100</td>\n",
       "      <td>1</td>\n",
       "      <td>300</td>\n",
       "      <td>10</td>\n",
       "      <td>...</td>\n",
       "      <td>0</td>\n",
       "      <td>0</td>\n",
       "      <td>0</td>\n",
       "      <td>0</td>\n",
       "      <td>0</td>\n",
       "      <td>0</td>\n",
       "      <td>0</td>\n",
       "      <td>0</td>\n",
       "      <td>0</td>\n",
       "      <td>0</td>\n",
       "    </tr>\n",
       "    <tr>\n",
       "      <th>3</th>\n",
       "      <td>3</td>\n",
       "      <td>85.0</td>\n",
       "      <td>-10.95</td>\n",
       "      <td>300</td>\n",
       "      <td>-300</td>\n",
       "      <td>1.025</td>\n",
       "      <td>100</td>\n",
       "      <td>1</td>\n",
       "      <td>270</td>\n",
       "      <td>10</td>\n",
       "      <td>...</td>\n",
       "      <td>0</td>\n",
       "      <td>0</td>\n",
       "      <td>0</td>\n",
       "      <td>0</td>\n",
       "      <td>0</td>\n",
       "      <td>0</td>\n",
       "      <td>0</td>\n",
       "      <td>0</td>\n",
       "      <td>0</td>\n",
       "      <td>0</td>\n",
       "    </tr>\n",
       "  </tbody>\n",
       "</table>\n",
       "<p>3 rows × 21 columns</p>\n",
       "</div>"
      ],
      "text/plain": [
       "   GEN_BUS     PG     QG  QMAX  QMIN     VG  MBASE  GEN_STATUS  PMAX  PMIN  \\\n",
       "1        1   72.3  27.03   300  -300  1.040    100           1   250    10   \n",
       "2        2  163.0   6.54   300  -300  1.025    100           1   300    10   \n",
       "3        3   85.0 -10.95   300  -300  1.025    100           1   270    10   \n",
       "\n",
       "   ...  PC2  QC1MIN  QC1MAX  QC2MIN  QC2MAX  RAMP_AGC  RAMP_10  RAMP_30  \\\n",
       "1  ...    0       0       0       0       0         0        0        0   \n",
       "2  ...    0       0       0       0       0         0        0        0   \n",
       "3  ...    0       0       0       0       0         0        0        0   \n",
       "\n",
       "   RAMP_Q  APF  \n",
       "1       0    0  \n",
       "2       0    0  \n",
       "3       0    0  \n",
       "\n",
       "[3 rows x 21 columns]"
      ]
     },
     "execution_count": 5,
     "metadata": {},
     "output_type": "execute_result"
    }
   ],
   "source": [
    "cf_parse.gen"
   ]
  },
  {
   "cell_type": "code",
   "execution_count": 6,
   "metadata": {},
   "outputs": [],
   "source": [
    "def astype_numpy(df):\n",
    "    # 1.14 ms ± 26.5 μs per loop (mean ± std. dev. of 7 runs, 1,000 loops each)\n",
    "    df = df.convert_dtypes()\n",
    "\n",
    "    columns = df.select_dtypes(include=[\"integer\"]).columns\n",
    "    df[columns] = df[columns].astype(int, errors=\"ignore\")\n",
    "\n",
    "    columns = df.select_dtypes(include=[\"float\"]).columns\n",
    "    df[columns] = df[columns].astype(float, errors=\"ignore\")\n",
    "\n",
    "    columns = df.select_dtypes(include=[\"string\"]).columns\n",
    "    df[columns] = df[columns].astype(str)\n",
    "\n",
    "    columns = df.select_dtypes(include=[\"boolean\"]).columns\n",
    "    df[columns] = df[columns].astype(bool)\n",
    "\n",
    "    return df\n",
    "\n",
    "\n",
    "# def astype_numpy2(df):\n",
    "#     # 1.61 ms ± 41.1 μs per loop (mean ± std. dev. of 7 runs, 1,000 loops each)\n",
    "#     # Convert to pandas best types first\n",
    "#     df = df.convert_dtypes()\n",
    "\n",
    "#     # Batch conversion for each dtype group to minimize indexing\n",
    "#     conversions = {\"integer\": int, \"float\": float, \"string\": str, \"boolean\": bool}\n",
    "\n",
    "#     for dtype, target_type in conversions.items():\n",
    "#         columns = df.select_dtypes(include=[dtype]).columns\n",
    "#         if not columns.empty:  # Only attempt conversion if columns exist\n",
    "#             df[columns] = df[columns].apply(\n",
    "#                 lambda col: col.astype(target_type), axis=0\n",
    "#             )\n",
    "\n",
    "#     return df"
   ]
  },
  {
   "cell_type": "code",
   "execution_count": 7,
   "metadata": {},
   "outputs": [
    {
     "data": {
      "text/plain": [
       "(dtype('<f8'), dtype('float64'))"
      ]
     },
     "execution_count": 7,
     "metadata": {},
     "output_type": "execute_result"
    }
   ],
   "source": [
    "cf_mpc.gen[\"PG\"].dtypes, astype_numpy(cf_mpc.gen)[\"PG\"].dtypes"
   ]
  },
  {
   "cell_type": "code",
   "execution_count": 8,
   "metadata": {},
   "outputs": [
    {
     "data": {
      "text/plain": [
       "(GEN_BUS       float64\n",
       " PG            float64\n",
       " QG            float64\n",
       " QMAX          float64\n",
       " QMIN          float64\n",
       " VG            float64\n",
       " MBASE         float64\n",
       " GEN_STATUS    float64\n",
       " PMAX          float64\n",
       " PMIN          float64\n",
       " PC1           float64\n",
       " PC2           float64\n",
       " QC1MIN        float64\n",
       " QC1MAX        float64\n",
       " QC2MIN        float64\n",
       " QC2MAX        float64\n",
       " RAMP_AGC      float64\n",
       " RAMP_10       float64\n",
       " RAMP_30       float64\n",
       " RAMP_Q        float64\n",
       " APF           float64\n",
       " dtype: object,\n",
       " GEN_BUS         int64\n",
       " PG            float64\n",
       " QG            float64\n",
       " QMAX            int64\n",
       " QMIN            int64\n",
       " VG            float64\n",
       " MBASE           int64\n",
       " GEN_STATUS      int64\n",
       " PMAX            int64\n",
       " PMIN            int64\n",
       " PC1             int64\n",
       " PC2             int64\n",
       " QC1MIN          int64\n",
       " QC1MAX          int64\n",
       " QC2MIN          int64\n",
       " QC2MAX          int64\n",
       " RAMP_AGC        int64\n",
       " RAMP_10         int64\n",
       " RAMP_30         int64\n",
       " RAMP_Q          int64\n",
       " APF             int64\n",
       " dtype: object)"
      ]
     },
     "execution_count": 8,
     "metadata": {},
     "output_type": "execute_result"
    }
   ],
   "source": [
    "cf_mpc.gen.dtypes, astype_numpy(cf_mpc.gen).dtypes"
   ]
  },
  {
   "cell_type": "code",
   "execution_count": 9,
   "metadata": {},
   "outputs": [
    {
     "data": {
      "text/plain": [
       "GEN_BUS         int64\n",
       "PG            float64\n",
       "QG            float64\n",
       "QMAX            int64\n",
       "QMIN            int64\n",
       "VG            float64\n",
       "MBASE           int64\n",
       "GEN_STATUS      int64\n",
       "PMAX            int64\n",
       "PMIN            int64\n",
       "PC1             int64\n",
       "PC2             int64\n",
       "QC1MIN          int64\n",
       "QC1MAX          int64\n",
       "QC2MIN          int64\n",
       "QC2MAX          int64\n",
       "RAMP_AGC        int64\n",
       "RAMP_10         int64\n",
       "RAMP_30         int64\n",
       "RAMP_Q          int64\n",
       "APF             int64\n",
       "dtype: object"
      ]
     },
     "execution_count": 9,
     "metadata": {},
     "output_type": "execute_result"
    }
   ],
   "source": [
    "cf_mpc.infer_numpy()  # introduced in 1.0.10\n",
    "cf_mpc.gen.dtypes"
   ]
  },
  {
   "cell_type": "code",
   "execution_count": null,
   "metadata": {},
   "outputs": [],
   "source": []
  }
 ],
 "metadata": {
  "kernelspec": {
   "display_name": "env",
   "language": "python",
   "name": "python3"
  },
  "language_info": {
   "codemirror_mode": {
    "name": "ipython",
    "version": 3
   },
   "file_extension": ".py",
   "mimetype": "text/x-python",
   "name": "python",
   "nbconvert_exporter": "python",
   "pygments_lexer": "ipython3",
   "version": "3.12.4"
  }
 },
 "nbformat": 4,
 "nbformat_minor": 2
}
