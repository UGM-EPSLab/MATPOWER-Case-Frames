{
 "cells": [
  {
   "cell_type": "code",
   "execution_count": 1,
   "metadata": {},
   "outputs": [],
   "source": [
    "%load_ext autoreload\n",
    "%autoreload 2"
   ]
  },
  {
   "cell_type": "code",
   "execution_count": 11,
   "metadata": {},
   "outputs": [],
   "source": [
    "import pandas as pd\n",
    "from pypglib import pglib_opf_case5_pjm\n",
    "\n",
    "from matpowercaseframes import CaseFrames\n",
    "\n",
    "pd.set_option(\"display.max_columns\", 50)\n",
    "pd.set_option(\"display.width\", 300)"
   ]
  },
  {
   "cell_type": "code",
   "execution_count": 12,
   "metadata": {},
   "outputs": [],
   "source": [
    "cf = CaseFrames(pglib_opf_case5_pjm)\n",
    "cf.infer_numpy()"
   ]
  },
  {
   "cell_type": "code",
   "execution_count": 13,
   "metadata": {},
   "outputs": [
    {
     "name": "stdout",
     "output_type": "stream",
     "text": [
      "version\n",
      "2\n",
      "\n",
      "\n",
      "baseMVA\n",
      "100\n",
      "\n",
      "\n",
      "bus\n",
      "   BUS_I  BUS_TYPE   PD      QD  GS  BS  BUS_AREA  VM  VA  BASE_KV  ZONE  VMAX  VMIN\n",
      "1      1         2    0    0.00   0   0         1   1   0      230     1   1.1   0.9\n",
      "2      2         1  300   98.61   0   0         1   1   0      230     1   1.1   0.9\n",
      "3      3         2  300   98.61   0   0         1   1   0      230     1   1.1   0.9\n",
      "4      4         3  400  131.47   0   0         1   1   0      230     1   1.1   0.9\n",
      "5      5         2    0    0.00   0   0         1   1   0      230     1   1.1   0.9\n",
      "\n",
      "\n",
      "gen\n",
      "   GEN_BUS   PG  QG   QMAX   QMIN  VG  MBASE  GEN_STATUS  PMAX  PMIN\n",
      "1        1   20   0   30.0  -30.0   1    100           1    40     0\n",
      "2        1   85   0  127.5 -127.5   1    100           1   170     0\n",
      "3        3  260   0  390.0 -390.0   1    100           1   520     0\n",
      "4        4  100   0  150.0 -150.0   1    100           1   200     0\n",
      "5        5  300   0  450.0 -450.0   1    100           1   600     0\n",
      "\n",
      "\n",
      "gencost\n",
      "   MODEL  STARTUP  SHUTDOWN  NCOST  COST_2  COST_1  COST_0\n",
      "1      2        0         0      3       0      14       0\n",
      "2      2        0         0      3       0      15       0\n",
      "3      2        0         0      3       0      30       0\n",
      "4      2        0         0      3       0      40       0\n",
      "5      2        0         0      3       0      10       0\n",
      "\n",
      "\n",
      "branch\n",
      "   F_BUS  T_BUS     BR_R    BR_X     BR_B  RATE_A  RATE_B  RATE_C  TAP  SHIFT  BR_STATUS  ANGMIN  ANGMAX\n",
      "1      1      2  0.00281  0.0281  0.00712     400     400     400    0      0          1     -30      30\n",
      "2      1      4  0.00304  0.0304  0.00658     426     426     426    0      0          1     -30      30\n",
      "3      1      5  0.00064  0.0064  0.03126     426     426     426    0      0          1     -30      30\n",
      "4      2      3  0.00108  0.0108  0.01852     426     426     426    0      0          1     -30      30\n",
      "5      3      4  0.00297  0.0297  0.00674     426     426     426    0      0          1     -30      30\n",
      "6      4      5  0.00297  0.0297  0.00674     240     240     240    0      0          1     -30      30\n",
      "\n",
      "\n"
     ]
    }
   ],
   "source": [
    "for attribute in cf.attributes:\n",
    "    print(f\"{attribute}\")\n",
    "    print(getattr(cf, attribute))\n",
    "    print(\"\\n\")"
   ]
  },
  {
   "cell_type": "code",
   "execution_count": null,
   "metadata": {},
   "outputs": [],
   "source": []
  }
 ],
 "metadata": {
  "kernelspec": {
   "display_name": "env",
   "language": "python",
   "name": "python3"
  },
  "language_info": {
   "codemirror_mode": {
    "name": "ipython",
    "version": 3
   },
   "file_extension": ".py",
   "mimetype": "text/x-python",
   "name": "python",
   "nbconvert_exporter": "python",
   "pygments_lexer": "ipython3",
   "version": "3.12.4"
  }
 },
 "nbformat": 4,
 "nbformat_minor": 2
}
